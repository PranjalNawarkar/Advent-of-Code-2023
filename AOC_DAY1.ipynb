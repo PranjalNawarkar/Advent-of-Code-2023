{
  "nbformat": 4,
  "nbformat_minor": 0,
  "metadata": {
    "colab": {
      "provenance": []
    },
    "kernelspec": {
      "name": "python3",
      "display_name": "Python 3"
    },
    "language_info": {
      "name": "python"
    }
  },
  "cells": [
    {
      "cell_type": "code",
      "execution_count": 9,
      "metadata": {
        "colab": {
          "base_uri": "https://localhost:8080/"
        },
        "id": "9fRcaSH2HUeH",
        "outputId": "08c7a6e7-47fc-4466-ae1d-796dac6e47bc"
      },
      "outputs": [
        {
          "output_type": "stream",
          "name": "stdout",
          "text": [
            "54990\n"
          ]
        }
      ],
      "source": [
        "with open('input.txt', 'r') as f:\n",
        "    input_data = f.read().splitlines()\n",
        "\n",
        "calibration_values = []\n",
        "for line in input_data:\n",
        "    digits = [char for char in line if char in '0123456789']\n",
        "    calibration_values.append(int(digits[0] + digits[-1]))\n",
        "\n",
        "print(sum(calibration_values))"
      ]
    },
    {
      "cell_type": "code",
      "source": [
        "\n",
        "def positions_and_values(line: str, dir: str) -> list[tuple[int, int]]:\n",
        "    # returns a list of (index, value)\n",
        "    mappings = {\n",
        "        '1': 1, 'one': 1,\n",
        "        '2': 2, 'two': 2,\n",
        "        '3': 3, 'three': 3,\n",
        "        '4': 4, 'four': 4,\n",
        "        '5': 5, 'five': 5,\n",
        "        '6': 6, 'six': 6,\n",
        "        '7': 7, 'seven': 7,\n",
        "        '8': 8, 'eight': 8,\n",
        "        '9': 9, 'nine': 9,\n",
        "    }\n",
        "    line_find_fn = line.find if dir == 'left' else line.rfind\n",
        "    return [(line_find_fn(digit), value) for digit, value in mappings.items() if line_find_fn(digit) != -1]\n",
        "\n",
        "\n",
        "with open('input.txt', 'r') as f:\n",
        "    input_data = f.read().splitlines()\n",
        "\n",
        "calibration_values = [int(\n",
        "    str(min(positions_and_values(line, dir='left'))[1]) +\n",
        "    str(max(positions_and_values(line, dir='right'))[1])\n",
        ") for line in input_data]\n",
        "\n",
        "print(sum(calibration_values))"
      ],
      "metadata": {
        "colab": {
          "base_uri": "https://localhost:8080/"
        },
        "id": "uA152L7kIyi5",
        "outputId": "4b737f2e-1ccb-4c68-d11a-c69e0c37270c"
      },
      "execution_count": 10,
      "outputs": [
        {
          "output_type": "stream",
          "name": "stdout",
          "text": [
            "54473\n"
          ]
        }
      ]
    }
  ]
}