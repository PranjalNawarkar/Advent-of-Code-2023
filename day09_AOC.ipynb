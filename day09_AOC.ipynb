{
  "nbformat": 4,
  "nbformat_minor": 0,
  "metadata": {
    "colab": {
      "provenance": []
    },
    "kernelspec": {
      "name": "python3",
      "display_name": "Python 3"
    },
    "language_info": {
      "name": "python"
    }
  },
  "cells": [
    {
      "cell_type": "code",
      "execution_count": 1,
      "metadata": {
        "colab": {
          "base_uri": "https://localhost:8080/"
        },
        "id": "Nd3JOZuIFP_L",
        "outputId": "6f25a578-f160-4930-b449-ca45a86c382e"
      },
      "outputs": [
        {
          "output_type": "stream",
          "name": "stdout",
          "text": [
            "✅ process_oasis_report_forward passed\n",
            "Sum of forward extrapolated values: 1934898178\n",
            "✅ process_oasis_report_backward passed\n",
            "Sum of backward extrapolated values: 1129\n"
          ]
        }
      ],
      "source": [
        "# --- Day 9: Mirage Maintenance ---\n",
        "\n",
        "class OasisAnalyzer:\n",
        "    def __init__(self, report):\n",
        "        self.report = report.splitlines()\n",
        "\n",
        "    def extrapolate_next_value(self, history_line):\n",
        "        sequence = [int(x) for x in history_line.split(\" \")]\n",
        "        sequences = [sequence]\n",
        "\n",
        "        while True:\n",
        "            next_sequence = [sequences[-1][i + 1] - sequences[-1][i] for i in range(len(sequences[-1]) - 1)]\n",
        "            sequences.append(next_sequence)\n",
        "\n",
        "            if all(v == 0 for v in next_sequence):\n",
        "                break\n",
        "\n",
        "        return sum(row[-1] for row in sequences)\n",
        "\n",
        "    def extrapolate_previous_value(self, history_line):\n",
        "        sequence = [int(x) for x in history_line.split(\" \")]\n",
        "        sequences = [sequence]\n",
        "\n",
        "        while True:\n",
        "            next_sequence = [sequences[-1][i + 1] - sequences[-1][i] for i in range(len(sequences[-1]) - 1)]\n",
        "            sequences.append(next_sequence)\n",
        "\n",
        "            if all(v == 0 for v in next_sequence):\n",
        "                break\n",
        "\n",
        "        sequences[-1] = [0] + sequences[-1]\n",
        "        for i in range(len(sequences) - 2, -1, -1):\n",
        "            sequences[i].insert(0, sequences[i][0] - sequences[i + 1][0])\n",
        "\n",
        "        return sequences[0][0]\n",
        "\n",
        "    def process_report(self, extrapolate_backwards=False):\n",
        "        if extrapolate_backwards:\n",
        "            return sum(self.extrapolate_previous_value(row) for row in self.report)\n",
        "\n",
        "        return sum(self.extrapolate_next_value(row) for row in self.report)\n",
        "\n",
        "\n",
        "def part_one():\n",
        "    with open(\"input9.txt\", \"r\") as f:\n",
        "        report = f.read()\n",
        "\n",
        "    analyzer = OasisAnalyzer(report)\n",
        "    sum_of_extrapolated_values = analyzer.process_report()\n",
        "    print(f\"Sum of forward extrapolated values: {sum_of_extrapolated_values}\")\n",
        "\n",
        "def part_two():\n",
        "    with open(\"input9.txt\", \"r\") as f:\n",
        "        report = f.read()\n",
        "\n",
        "    analyzer = OasisAnalyzer(report)\n",
        "    sum_of_extrapolated_values = analyzer.process_report(extrapolate_backwards=True)\n",
        "    print(f\"Sum of backward extrapolated values: {sum_of_extrapolated_values}\")\n",
        "\n",
        "def test_process_oasis_report_forward():\n",
        "    report = \"\"\"0 3 6 9 12 15\n",
        "1 3 6 10 15 21\n",
        "10 13 16 21 30 45\"\"\"\n",
        "\n",
        "    analyzer = OasisAnalyzer(report)\n",
        "    sum_of_extrapolated_values = analyzer.process_report()\n",
        "    assert sum_of_extrapolated_values == 114, f\"Expected 114, got {sum_of_extrapolated_values}\"\n",
        "    print(\"✅ process_oasis_report_forward passed\")\n",
        "\n",
        "def test_process_oasis_report_backward():\n",
        "    report = \"\"\"0 3 6 9 12 15\n",
        "1 3 6 10 15 21\n",
        "10 13 16 21 30 45\"\"\"\n",
        "\n",
        "    analyzer = OasisAnalyzer(report)\n",
        "    sum_of_extrapolated_values = analyzer.process_report(extrapolate_backwards=True)\n",
        "    assert sum_of_extrapolated_values == 2, f\"Expected 2, got {sum_of_extrapolated_values}\"\n",
        "    print(\"✅ process_oasis_report_backward passed\")\n",
        "\n",
        "if __name__ == \"__main__\":\n",
        "    test_process_oasis_report_forward()\n",
        "    part_one()\n",
        "\n",
        "    test_process_oasis_report_backward()\n",
        "    part_two()\n"
      ]
    }
  ]
}