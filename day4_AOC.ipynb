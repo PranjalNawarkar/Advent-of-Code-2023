{
  "nbformat": 4,
  "nbformat_minor": 0,
  "metadata": {
    "colab": {
      "provenance": []
    },
    "kernelspec": {
      "name": "python3",
      "display_name": "Python 3"
    },
    "language_info": {
      "name": "python"
    }
  },
  "cells": [
    {
      "cell_type": "code",
      "execution_count": 1,
      "metadata": {
        "colab": {
          "base_uri": "https://localhost:8080/"
        },
        "id": "-gyvnBp6_ofC",
        "outputId": "d144af3b-11c6-4d4d-ed1f-caef166d00b8"
      },
      "outputs": [
        {
          "output_type": "stream",
          "name": "stdout",
          "text": [
            "test_calculate_total_points passed!\n",
            "Total points: 26426\n",
            "test_calculate_total_scratchcards passed!\n",
            "Total scratchcards: 6227972\n"
          ]
        }
      ],
      "source": [
        "# --- Day 4: Scratchcards ---\n",
        "\n",
        "class ScratchCardProcessor:\n",
        "    \"\"\"Processes scratch cards to calculate total points and total scratchcards.\"\"\"\n",
        "\n",
        "    def __init__(self, scratchcards: str):\n",
        "        \"\"\"Initializes the processor with a string of scratchcards.\"\"\"\n",
        "        self.scratchcards = scratchcards\n",
        "        self.repository = {self._get_card_id(scratchcard): 1 for scratchcard in self._get_lines()}\n",
        "\n",
        "    def calculate_total_points(self) -> int:\n",
        "        \"\"\"Calculates the total points from all scratchcards.\"\"\"\n",
        "        return sum(self._calculate_points(scratchcard) for scratchcard in self._get_lines())\n",
        "\n",
        "    def calculate_total_scratchcards(self) -> int:\n",
        "        \"\"\"Calculates the total number of scratchcards.\"\"\"\n",
        "        for scratchcard in self._get_lines():\n",
        "            card_id = self._get_card_id(scratchcard)\n",
        "            match_count = self._get_match_count(scratchcard)\n",
        "            for i in range(1, match_count + 1):\n",
        "                self.repository[card_id + i] += self.repository[card_id]\n",
        "\n",
        "        return sum(self.repository.values())\n",
        "\n",
        "    def _get_lines(self):\n",
        "        \"\"\"Splits the scratchcards string into individual lines.\"\"\"\n",
        "        return self.scratchcards.splitlines()\n",
        "\n",
        "    def _get_card_id(self, scratchcard: str) -> int:\n",
        "        \"\"\"Extracts the card ID from a scratchcard string.\"\"\"\n",
        "        return int(scratchcard.split(\":\")[0].split()[1])\n",
        "\n",
        "    def _get_match_count(self, scratchcard: str) -> int:\n",
        "        \"\"\"Calculates the match count for a scratchcard.\"\"\"\n",
        "        _, numbers = scratchcard.split(\": \")\n",
        "        winning_numbers, your_numbers = (set(map(int, ns.split())) for ns in numbers.split(\" | \"))\n",
        "        return len(your_numbers & winning_numbers)\n",
        "\n",
        "    def _calculate_points(self, scratchcard: str) -> int:\n",
        "        \"\"\"Calculates points for a single scratchcard.\"\"\"\n",
        "        match_count = self._get_match_count(scratchcard)\n",
        "        return 0 if match_count == 0 else 2 ** (match_count - 1)\n",
        "\n",
        "    @staticmethod\n",
        "    def test_calculate_total_points():\n",
        "        scratchcards = \"\"\"Card 1: 41 48 83 86 17 | 83 86  6 31 17  9 48 53\n",
        "Card 2: 13 32 20 16 61 | 61 30 68 82 17 32 24 19\n",
        "Card 3:  1 21 53 59 44 | 69 82 63 72 16 21 14  1\n",
        "Card 4: 41 92 73 84 69 | 59 84 76 51 58  5 54 83\n",
        "Card 5: 87 83 26 28 32 | 88 30 70 12 93 22 82 36\n",
        "Card 6: 31 18 13 56 72 | 74 77 10 23 35 67 36 11\n",
        "\"\"\"\n",
        "        processor = ScratchCardProcessor(scratchcards)\n",
        "        total_points = processor.calculate_total_points()\n",
        "        assert total_points == 13, f\"Expected 13, got {total_points}\"\n",
        "        print(\"test_calculate_total_points passed!\")\n",
        "\n",
        "    @staticmethod\n",
        "    def test_calculate_total_scratchcards():\n",
        "        scratchcards = \"\"\"Card 1: 41 48 83 86 17 | 83 86  6 31 17  9 48 53\n",
        "Card 2: 13 32 20 16 61 | 61 30 68 82 17 32 24 19\n",
        "Card 3:  1 21 53 59 44 | 69 82 63 72 16 21 14  1\n",
        "Card 4: 41 92 73 84 69 | 59 84 76 51 58  5 54 83\n",
        "Card 5: 87 83 26 28 32 | 88 30 70 12 93 22 82 36\n",
        "Card 6: 31 18 13 56 72 | 74 77 10 23 35 67 36 11\n",
        "\"\"\"\n",
        "        processor = ScratchCardProcessor(scratchcards)\n",
        "        total_scratchcards = processor.calculate_total_scratchcards()\n",
        "        assert total_scratchcards == 30, f\"Expected 30, got {total_scratchcards}\"\n",
        "        print(\"test_calculate_total_scratchcards passed!\")\n",
        "\n",
        "def part_1():\n",
        "    with open(\"input4.txt\") as f:\n",
        "        scratchcards = f.read()\n",
        "\n",
        "    processor = ScratchCardProcessor(scratchcards)\n",
        "    print(f\"Total points: {processor.calculate_total_points()}\")\n",
        "\n",
        "def part_2():\n",
        "    with open(\"input4.txt\") as f:\n",
        "        scratchcards = f.read()\n",
        "\n",
        "    processor = ScratchCardProcessor(scratchcards)\n",
        "    print(f\"Total scratchcards: {processor.calculate_total_scratchcards()}\")\n",
        "\n",
        "if __name__ == \"__main__\":\n",
        "    ScratchCardProcessor.test_calculate_total_points()\n",
        "    part_1()\n",
        "\n",
        "    ScratchCardProcessor.test_calculate_total_scratchcards()\n",
        "    part_2()\n"
      ]
    }
  ]
}